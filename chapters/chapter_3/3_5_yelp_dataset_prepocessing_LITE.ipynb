{
 "nbformat": 4,
 "nbformat_minor": 2,
 "metadata": {
  "language_info": {
   "name": "python",
   "codemirror_mode": {
    "name": "ipython",
    "version": 3
   },
   "version": "3.7.5-final"
  },
  "orig_nbformat": 2,
  "file_extension": ".py",
  "mimetype": "text/x-python",
  "name": "python",
  "npconvert_exporter": "python",
  "pygments_lexer": "ipython3",
  "version": 3,
  "kernelspec": {
   "name": "python37564bita56a9f4aec7d4ebbaeb65b3ade9dbac5",
   "display_name": "Python 3.7.5 64-bit"
  }
 },
 "cells": [
  {
   "cell_type": "code",
   "execution_count": 3,
   "metadata": {},
   "outputs": [],
   "source": [
    "import pandas as pd\n",
    "from sklearn.utils import shuffle\n",
    "import re"
   ]
  },
  {
   "cell_type": "code",
   "execution_count": 4,
   "metadata": {},
   "outputs": [],
   "source": [
    "# Read raw data\n",
    "train_reviews = pd.read_csv(\"../../data/yelp/raw_train.csv\", names=['rating','review'])"
   ]
  },
  {
   "cell_type": "code",
   "execution_count": 5,
   "metadata": {},
   "outputs": [],
   "source": [
    "# Split the dataset based on rating values\n",
    "train_reviews_1 = train_reviews.loc[train_reviews['rating'] == 1]\n",
    "train_reviews_2 = train_reviews.loc[train_reviews['rating'] == 2]"
   ]
  },
  {
   "cell_type": "code",
   "execution_count": 6,
   "metadata": {},
   "outputs": [],
   "source": [
    "# shuffle those two datasets, and subset 5% datapoints from each of the two datasets\n",
    "train_reviews_1 = shuffle(train_reviews_1)\n",
    "train_reviews_1.reset_index(inplace=True,drop=True)\n",
    "train_reviews_2 = shuffle(train_reviews_2)\n",
    "train_reviews_2.reset_index(inplace=True,drop=True)\n",
    "num = int(len(train_reviews) * 0.05)\n",
    "train_reviews_1 = train_reviews_1.head(num)\n",
    "train_reviews_2 = train_reviews_2.head(num)"
   ]
  },
  {
   "cell_type": "code",
   "execution_count": 7,
   "metadata": {},
   "outputs": [
    {
     "output_type": "execute_result",
     "data": {
      "text/plain": "       rating                                             review\n1885        2  I've been here twice now, and the food is cons...\n5104        2  So my refrigerator broke down and I found Mike...\n20628       2  We love the Living Room! My boyfriend and I fr...\n80          2  Not at all the stereotypical sleazy bus statio...\n16535       2  Nice place for a decent drink. No sports tv, n...",
      "text/html": "<div>\n<style scoped>\n    .dataframe tbody tr th:only-of-type {\n        vertical-align: middle;\n    }\n\n    .dataframe tbody tr th {\n        vertical-align: top;\n    }\n\n    .dataframe thead th {\n        text-align: right;\n    }\n</style>\n<table border=\"1\" class=\"dataframe\">\n  <thead>\n    <tr style=\"text-align: right;\">\n      <th></th>\n      <th>rating</th>\n      <th>review</th>\n    </tr>\n  </thead>\n  <tbody>\n    <tr>\n      <th>1885</th>\n      <td>2</td>\n      <td>I've been here twice now, and the food is cons...</td>\n    </tr>\n    <tr>\n      <th>5104</th>\n      <td>2</td>\n      <td>So my refrigerator broke down and I found Mike...</td>\n    </tr>\n    <tr>\n      <th>20628</th>\n      <td>2</td>\n      <td>We love the Living Room! My boyfriend and I fr...</td>\n    </tr>\n    <tr>\n      <th>80</th>\n      <td>2</td>\n      <td>Not at all the stereotypical sleazy bus statio...</td>\n    </tr>\n    <tr>\n      <th>16535</th>\n      <td>2</td>\n      <td>Nice place for a decent drink. No sports tv, n...</td>\n    </tr>\n  </tbody>\n</table>\n</div>"
     },
     "metadata": {},
     "execution_count": 7
    }
   ],
   "source": [
    "# concatenate two dfs into one, and suffle the new df\n",
    "review_subset = pd.concat([train_reviews_1,train_reviews_2])\n",
    "review_subset = shuffle(review_subset)\n",
    "review_subset.head()"
   ]
  },
  {
   "cell_type": "code",
   "execution_count": 8,
   "metadata": {},
   "outputs": [
    {
     "output_type": "execute_result",
     "data": {
      "text/plain": "2    28000\n1    28000\nName: rating, dtype: int64"
     },
     "metadata": {},
     "execution_count": 8
    }
   ],
   "source": [
    "review_subset.rating.value_counts()"
   ]
  },
  {
   "cell_type": "code",
   "execution_count": 9,
   "metadata": {},
   "outputs": [],
   "source": [
    "# Splitting the subset by rating to create our new train, val, and test splits\n",
    "n_total = len(review_subset)\n",
    "n_train = int(0.7*n_total)\n",
    "n_val = int(0.15*n_total)\n",
    "n_test = int(0.15*n_total)\n",
    "\n",
    "ls = ['train']*int(n_train/2) + ['test']*int(n_test/2)+['val']*int(n_val/2)\n",
    "ls = shuffle(ls)\n",
    "\n",
    "review_subset_1 = review_subset.loc[review_subset['rating'] ==1]\n",
    "review_subset_1['split']= ls\n",
    "review_subset_2 = review_subset.loc[review_subset['rating'] ==2]\n",
    "review_subset_2['split']= ls\n",
    "\n",
    ""
   ]
  },
  {
   "cell_type": "code",
   "execution_count": 10,
   "metadata": {},
   "outputs": [],
   "source": [
    "# combine dfs and shuffle it\n",
    "final_reviews = pd.concat([review_subset_1,review_subset_2])\n",
    "final_reviews = shuffle(final_reviews)"
   ]
  },
  {
   "cell_type": "code",
   "execution_count": 11,
   "metadata": {},
   "outputs": [
    {
     "output_type": "execute_result",
     "data": {
      "text/plain": "       rating                                             review  split\n26267       2  Come here for the MEAT. Fresh Cuts and Carne A...  train\n23330       2  I tried Boardhouse for the first time today du...  train\n19334       2                                Always good service  train\n11852       1  Mario should be ashamed!\\n\\nThere is no questi...  train\n11066       1  This has been my worst experience at any boba ...  train",
      "text/html": "<div>\n<style scoped>\n    .dataframe tbody tr th:only-of-type {\n        vertical-align: middle;\n    }\n\n    .dataframe tbody tr th {\n        vertical-align: top;\n    }\n\n    .dataframe thead th {\n        text-align: right;\n    }\n</style>\n<table border=\"1\" class=\"dataframe\">\n  <thead>\n    <tr style=\"text-align: right;\">\n      <th></th>\n      <th>rating</th>\n      <th>review</th>\n      <th>split</th>\n    </tr>\n  </thead>\n  <tbody>\n    <tr>\n      <th>26267</th>\n      <td>2</td>\n      <td>Come here for the MEAT. Fresh Cuts and Carne A...</td>\n      <td>train</td>\n    </tr>\n    <tr>\n      <th>23330</th>\n      <td>2</td>\n      <td>I tried Boardhouse for the first time today du...</td>\n      <td>train</td>\n    </tr>\n    <tr>\n      <th>19334</th>\n      <td>2</td>\n      <td>Always good service</td>\n      <td>train</td>\n    </tr>\n    <tr>\n      <th>11852</th>\n      <td>1</td>\n      <td>Mario should be ashamed!\\n\\nThere is no questi...</td>\n      <td>train</td>\n    </tr>\n    <tr>\n      <th>11066</th>\n      <td>1</td>\n      <td>This has been my worst experience at any boba ...</td>\n      <td>train</td>\n    </tr>\n  </tbody>\n</table>\n</div>"
     },
     "metadata": {},
     "execution_count": 11
    }
   ],
   "source": [
    "final_reviews.head()"
   ]
  },
  {
   "cell_type": "code",
   "execution_count": 12,
   "metadata": {},
   "outputs": [
    {
     "output_type": "execute_result",
     "data": {
      "text/plain": "train    39200\nval       8400\ntest      8400\nName: split, dtype: int64"
     },
     "metadata": {},
     "execution_count": 12
    }
   ],
   "source": [
    "final_reviews.split.value_counts()"
   ]
  },
  {
   "cell_type": "code",
   "execution_count": 13,
   "metadata": {},
   "outputs": [
    {
     "output_type": "execute_result",
     "data": {
      "text/plain": "              review\nrating split        \n1      test     4200\n       train   19600\n       val      4200\n2      test     4200\n       train   19600\n       val      4200",
      "text/html": "<div>\n<style scoped>\n    .dataframe tbody tr th:only-of-type {\n        vertical-align: middle;\n    }\n\n    .dataframe tbody tr th {\n        vertical-align: top;\n    }\n\n    .dataframe thead th {\n        text-align: right;\n    }\n</style>\n<table border=\"1\" class=\"dataframe\">\n  <thead>\n    <tr style=\"text-align: right;\">\n      <th></th>\n      <th></th>\n      <th>review</th>\n    </tr>\n    <tr>\n      <th>rating</th>\n      <th>split</th>\n      <th></th>\n    </tr>\n  </thead>\n  <tbody>\n    <tr>\n      <th rowspan=\"3\" valign=\"top\">1</th>\n      <th>test</th>\n      <td>4200</td>\n    </tr>\n    <tr>\n      <th>train</th>\n      <td>19600</td>\n    </tr>\n    <tr>\n      <th>val</th>\n      <td>4200</td>\n    </tr>\n    <tr>\n      <th rowspan=\"3\" valign=\"top\">2</th>\n      <th>test</th>\n      <td>4200</td>\n    </tr>\n    <tr>\n      <th>train</th>\n      <td>19600</td>\n    </tr>\n    <tr>\n      <th>val</th>\n      <td>4200</td>\n    </tr>\n  </tbody>\n</table>\n</div>"
     },
     "metadata": {},
     "execution_count": 13
    }
   ],
   "source": [
    "final_reviews.groupby(['rating','split']).count()"
   ]
  },
  {
   "cell_type": "code",
   "execution_count": 14,
   "metadata": {},
   "outputs": [],
   "source": [
    "# Preprocess the reviews\n",
    "def preprocess_text(text):\n",
    "    text = text.lower()\n",
    "    text = re.sub(r\"([.,!?])\", r\" \\1 \", text)\n",
    "    text = re.sub(r\"[^a-zA-Z.,!?]+\", r\" \", text)\n",
    "    return text\n",
    "    \n",
    "final_reviews.review = final_reviews.review.apply(preprocess_text)"
   ]
  },
  {
   "cell_type": "code",
   "execution_count": 15,
   "metadata": {},
   "outputs": [],
   "source": [
    "final_reviews['rating'] = final_reviews.rating.apply({1: 'negative', 2: 'positive'}.get)"
   ]
  },
  {
   "cell_type": "code",
   "execution_count": 16,
   "metadata": {},
   "outputs": [
    {
     "output_type": "execute_result",
     "data": {
      "text/plain": "         rating                                             review  split\n26267  positive  come here for the meat . fresh cuts and carne ...  train\n23330  positive  i tried boardhouse for the first time today du...  train\n19334  positive                                always good service  train\n11852  negative  mario should be ashamed ! n nthere is no quest...  train\n11066  negative  this has been my worst experience at any boba ...  train",
      "text/html": "<div>\n<style scoped>\n    .dataframe tbody tr th:only-of-type {\n        vertical-align: middle;\n    }\n\n    .dataframe tbody tr th {\n        vertical-align: top;\n    }\n\n    .dataframe thead th {\n        text-align: right;\n    }\n</style>\n<table border=\"1\" class=\"dataframe\">\n  <thead>\n    <tr style=\"text-align: right;\">\n      <th></th>\n      <th>rating</th>\n      <th>review</th>\n      <th>split</th>\n    </tr>\n  </thead>\n  <tbody>\n    <tr>\n      <th>26267</th>\n      <td>positive</td>\n      <td>come here for the meat . fresh cuts and carne ...</td>\n      <td>train</td>\n    </tr>\n    <tr>\n      <th>23330</th>\n      <td>positive</td>\n      <td>i tried boardhouse for the first time today du...</td>\n      <td>train</td>\n    </tr>\n    <tr>\n      <th>19334</th>\n      <td>positive</td>\n      <td>always good service</td>\n      <td>train</td>\n    </tr>\n    <tr>\n      <th>11852</th>\n      <td>negative</td>\n      <td>mario should be ashamed ! n nthere is no quest...</td>\n      <td>train</td>\n    </tr>\n    <tr>\n      <th>11066</th>\n      <td>negative</td>\n      <td>this has been my worst experience at any boba ...</td>\n      <td>train</td>\n    </tr>\n  </tbody>\n</table>\n</div>"
     },
     "metadata": {},
     "execution_count": 16
    }
   ],
   "source": [
    "final_reviews.head()"
   ]
  },
  {
   "cell_type": "code",
   "execution_count": 19,
   "metadata": {},
   "outputs": [],
   "source": [
    "final_reviews.to_csv(\"../../data/output_munged_csv\", index=False)"
   ]
  }
 ]
}